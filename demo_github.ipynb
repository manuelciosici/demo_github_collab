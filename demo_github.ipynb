{
  "nbformat": 4,
  "nbformat_minor": 0,
  "metadata": {
    "colab": {
      "name": "demo_github.ipynb",
      "provenance": [],
      "collapsed_sections": [],
      "authorship_tag": "ABX9TyOeVsyX+GWmIrd26LuzNyi4",
      "include_colab_link": true
    },
    "kernelspec": {
      "name": "python3",
      "display_name": "Python 3"
    }
  },
  "cells": [
    {
      "cell_type": "markdown",
      "metadata": {
        "id": "view-in-github",
        "colab_type": "text"
      },
      "source": [
        "<a href=\"https://colab.research.google.com/github/manuelciosici/demo_github_collab/blob/master/demo_github.ipynb\" target=\"_parent\"><img src=\"https://colab.research.google.com/assets/colab-badge.svg\" alt=\"Open In Colab\"/></a>"
      ]
    },
    {
      "cell_type": "markdown",
      "metadata": {
        "id": "EFmDQYnuxt-L",
        "colab_type": "text"
      },
      "source": [
        "# Demo for linking your GitHub repository to your colab notebook"
      ]
    },
    {
      "cell_type": "markdown",
      "metadata": {
        "id": "il_CRlsixz4l",
        "colab_type": "text"
      },
      "source": [
        "## Intro\n",
        "Your Colab notebook can run Linux command-line programs. For example:"
      ]
    },
    {
      "cell_type": "code",
      "metadata": {
        "id": "aKZPwGFrzG80",
        "colab_type": "code",
        "colab": {
          "base_uri": "https://localhost:8080/",
          "height": 35
        },
        "outputId": "a7eeb0bb-a476-4c45-9a70-d15ac5d4decf"
      },
      "source": [
        "! ls"
      ],
      "execution_count": 1,
      "outputs": [
        {
          "output_type": "stream",
          "text": [
            "sample_data\n"
          ],
          "name": "stdout"
        }
      ]
    },
    {
      "cell_type": "code",
      "metadata": {
        "id": "0joUEfjMzJG6",
        "colab_type": "code",
        "colab": {
          "base_uri": "https://localhost:8080/",
          "height": 35
        },
        "outputId": "b001f58b-9f27-408e-df25-84a5e6f3629f"
      },
      "source": [
        "! pwd"
      ],
      "execution_count": 2,
      "outputs": [
        {
          "output_type": "stream",
          "text": [
            "/content\n"
          ],
          "name": "stdout"
        }
      ]
    },
    {
      "cell_type": "markdown",
      "metadata": {
        "id": "vi9ASTeqx_GK",
        "colab_type": "text"
      },
      "source": [
        "## Cloning your GitHub repo\n",
        "\n",
        "Cloning your GitHub repository is as simple as calling git clone.\n",
        "\n",
        "However, ITU's enterprise GitHub doesn't have support for \"true\" public repositories. The following will fail:"
      ]
    },
    {
      "cell_type": "code",
      "metadata": {
        "id": "TEBkH3SRySCW",
        "colab_type": "code",
        "colab": {
          "base_uri": "https://localhost:8080/",
          "height": 52
        },
        "outputId": "f186bd87-ac14-480f-fd40-a61777db1b05"
      },
      "source": [
        "! git clone https://github.itu.dk/maci/demo_github_collab.git"
      ],
      "execution_count": 4,
      "outputs": [
        {
          "output_type": "stream",
          "text": [
            "Cloning into 'demo_github_collab'...\n",
            "fatal: could not read Username for 'https://github.itu.dk': No such device or address\n"
          ],
          "name": "stdout"
        }
      ]
    },
    {
      "cell_type": "markdown",
      "metadata": {
        "id": "7ewq3BxMypCi",
        "colab_type": "text"
      },
      "source": [
        "Therefore, the following options exist:\n",
        " \n",
        " 1. Use regular GitHub for your project\n",
        " 2. Use ITU's GitHub for the project, but add an extra remote on regular GitHub\n",
        " 3. Add your code as a ZIP to something like Google Drive / DropBox and download the zip.\n",
        "\n",
        " In this Colab I will use option 2. I created a secondary GitHub repository on regular GitHub. I then added it as a second remote to my local repository and pushed to it. Below I clone from my GitHub repository."
      ]
    },
    {
      "cell_type": "code",
      "metadata": {
        "id": "XdWcdBx7zPP9",
        "colab_type": "code",
        "colab": {
          "base_uri": "https://localhost:8080/",
          "height": 123
        },
        "outputId": "82df1ea4-95ae-4be7-dc1b-5cb54d875479"
      },
      "source": [
        "! git clone https://github.com/manuelciosici/demo_github_collab.git"
      ],
      "execution_count": 15,
      "outputs": [
        {
          "output_type": "stream",
          "text": [
            "Cloning into 'demo_github_collab'...\n",
            "remote: Enumerating objects: 8, done.\u001b[K\n",
            "remote: Counting objects:  12% (1/8)\u001b[K\rremote: Counting objects:  25% (2/8)\u001b[K\rremote: Counting objects:  37% (3/8)\u001b[K\rremote: Counting objects:  50% (4/8)\u001b[K\rremote: Counting objects:  62% (5/8)\u001b[K\rremote: Counting objects:  75% (6/8)\u001b[K\rremote: Counting objects:  87% (7/8)\u001b[K\rremote: Counting objects: 100% (8/8)\u001b[K\rremote: Counting objects: 100% (8/8), done.\u001b[K\n",
            "remote: Compressing objects:  14% (1/7)\u001b[K\rremote: Compressing objects:  28% (2/7)\u001b[K\rremote: Compressing objects:  42% (3/7)\u001b[K\rremote: Compressing objects:  57% (4/7)\u001b[K\rremote: Compressing objects:  71% (5/7)\u001b[K\rremote: Compressing objects:  85% (6/7)\u001b[K\rremote: Compressing objects: 100% (7/7)\u001b[K\rremote: Compressing objects: 100% (7/7), done.\u001b[K\n",
            "remote: Total 8 (delta 0), reused 8 (delta 0), pack-reused 0\u001b[K\n",
            "Unpacking objects:  12% (1/8)   \rUnpacking objects:  25% (2/8)   \rUnpacking objects:  37% (3/8)   \rUnpacking objects:  50% (4/8)   \rUnpacking objects:  62% (5/8)   \rUnpacking objects:  75% (6/8)   \rUnpacking objects:  87% (7/8)   \rUnpacking objects: 100% (8/8)   \rUnpacking objects: 100% (8/8), done.\n"
          ],
          "name": "stdout"
        }
      ]
    },
    {
      "cell_type": "code",
      "metadata": {
        "id": "qzUD96t7zXfe",
        "colab_type": "code",
        "colab": {
          "base_uri": "https://localhost:8080/",
          "height": 35
        },
        "outputId": "703bd934-3eb6-4960-f4d1-0f17ee78bf11"
      },
      "source": [
        "! ls"
      ],
      "execution_count": 16,
      "outputs": [
        {
          "output_type": "stream",
          "text": [
            "demo_github_collab  sample_data\n"
          ],
          "name": "stdout"
        }
      ]
    },
    {
      "cell_type": "code",
      "metadata": {
        "id": "xW-KiQ3w4hkW",
        "colab_type": "code",
        "colab": {
          "base_uri": "https://localhost:8080/",
          "height": 35
        },
        "outputId": "422927e2-d799-4f46-e7ae-0136f3169f77"
      },
      "source": [
        "% cd demo_github_collab"
      ],
      "execution_count": 25,
      "outputs": [
        {
          "output_type": "stream",
          "text": [
            "/content/demo_github_collab\n"
          ],
          "name": "stdout"
        }
      ]
    },
    {
      "cell_type": "markdown",
      "metadata": {
        "id": "rH6N5mKn6SQf",
        "colab_type": "text"
      },
      "source": [
        "The % instead of ! in the above code block is important. It tells both the underlying terminal interpreter and to the underlying Python to move to the new directory."
      ]
    },
    {
      "cell_type": "code",
      "metadata": {
        "id": "oqPuZ-3H4pwK",
        "colab_type": "code",
        "colab": {
          "base_uri": "https://localhost:8080/",
          "height": 35
        },
        "outputId": "249d9f51-c816-4499-bdd8-693ab3416071"
      },
      "source": [
        "! ls"
      ],
      "execution_count": 26,
      "outputs": [
        {
          "output_type": "stream",
          "text": [
            "contractions.json  main.py  __pycache__  README.md  utils.py\n"
          ],
          "name": "stdout"
        }
      ]
    },
    {
      "cell_type": "code",
      "metadata": {
        "id": "boA7SGey20vm",
        "colab_type": "code",
        "colab": {}
      },
      "source": [
        "from utils import expand_contractions"
      ],
      "execution_count": 0,
      "outputs": []
    },
    {
      "cell_type": "code",
      "metadata": {
        "id": "YGsedFJQ4UC0",
        "colab_type": "code",
        "colab": {
          "base_uri": "https://localhost:8080/",
          "height": 35
        },
        "outputId": "06653d24-0932-4ffd-adff-9fa397ba1308"
      },
      "source": [
        "expand_contractions(\"I didn't know what I shouldn't have done\")"
      ],
      "execution_count": 28,
      "outputs": [
        {
          "output_type": "execute_result",
          "data": {
            "text/plain": [
              "\"I didn't know what I should not have done\""
            ]
          },
          "metadata": {
            "tags": []
          },
          "execution_count": 28
        }
      ]
    },
    {
      "cell_type": "code",
      "metadata": {
        "id": "3Tf-Oiyo4eQj",
        "colab_type": "code",
        "colab": {}
      },
      "source": [
        ""
      ],
      "execution_count": 0,
      "outputs": []
    }
  ]
}